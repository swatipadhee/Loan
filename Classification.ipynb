{
 "cells": [
  {
   "cell_type": "code",
   "execution_count": 1,
   "id": "b7be78a3-7bf7-4c79-a15b-7a6b669a3830",
   "metadata": {},
   "outputs": [],
   "source": [
    "import pandas as pd\n",
    "import torch\n",
    "import numpy as np\n",
    "\n",
    "import torch.nn as nn\n",
    "import torch.optim as optim\n",
    "from sklearn.preprocessing import StandardScaler, OneHotEncoder\n",
    "from sklearn.compose import ColumnTransformer\n",
    "from sklearn.model_selection import train_test_split\n",
    "from torch.utils.data import DataLoader, TensorDataset"
   ]
  },
  {
   "cell_type": "code",
   "execution_count": 2,
   "id": "55028a9e-df19-4165-b054-73a71f0969c2",
   "metadata": {},
   "outputs": [],
   "source": [
    "pd.set_option('display.max_colwidth', 100)  # Limit column width for better readability\n",
    "pd.set_option('display.max_rows', None)  # Display all rows\n",
    "pd.set_option('display.max_columns', None)  # Display all columns\n"
   ]
  },
  {
   "cell_type": "code",
   "execution_count": 3,
   "id": "29d68ec8-a5d1-4a55-b45e-526b258aecf5",
   "metadata": {},
   "outputs": [],
   "source": [
    "# Load training and testing data\n",
    "train_data = pd.read_csv(r'C:\\Users\\padhee.3\\Downloads\\Take Home Project\\training_processed_data.csv')  # Replace with your training file path\n",
    "test_data = pd.read_csv(r'C:\\Users\\padhee.3\\Downloads\\Take Home Project\\testing_processed_data.csv')    # Replace with your testing file path"
   ]
  },
  {
   "cell_type": "code",
   "execution_count": 4,
   "id": "f16941b1-5d2f-4a87-a60e-3a9ff3b3127a",
   "metadata": {},
   "outputs": [
    {
     "name": "stdout",
     "output_type": "stream",
     "text": [
      "Index(['id', 'loan_amnt', 'term', 'int_rate', 'emp_length', 'home_ownership',\n",
      "       'annual_inc', 'purpose', 'percent_bc_gt_75', 'bc_util', 'dti',\n",
      "       'inq_last_6mths', 'mths_since_recent_inq', 'revol_util',\n",
      "       'total_bc_limit', 'tot_cur_bal', 'bad_flag'],\n",
      "      dtype='object')\n",
      "Index(['id', 'loan_amnt', 'term', 'int_rate', 'emp_length', 'home_ownership',\n",
      "       'annual_inc', 'purpose', 'percent_bc_gt_75', 'bc_util', 'dti',\n",
      "       'inq_last_6mths', 'mths_since_recent_inq', 'revol_util',\n",
      "       'total_bc_limit', 'tot_cur_bal', 'bad_flag'],\n",
      "      dtype='object')\n"
     ]
    }
   ],
   "source": [
    "print(train_data.columns)\n",
    "print(test_data.columns)"
   ]
  },
  {
   "cell_type": "code",
   "execution_count": 5,
   "id": "eae0df1a-e5d1-468b-ba0c-1bb3e8aeef02",
   "metadata": {},
   "outputs": [],
   "source": [
    "# Drop the 'id' column \n",
    "if 'id' in train_data.columns:\n",
    "    train_data = train_data.drop(columns=['id'])\n",
    "if 'id' in test_data.columns:\n",
    "    test_data = test_data.drop(columns=['id'])"
   ]
  },
  {
   "cell_type": "code",
   "execution_count": 7,
   "id": "e127d421-e88a-4106-ac59-e672f04b85bd",
   "metadata": {},
   "outputs": [
    {
     "data": {
      "text/html": [
       "<div>\n",
       "<style scoped>\n",
       "    .dataframe tbody tr th:only-of-type {\n",
       "        vertical-align: middle;\n",
       "    }\n",
       "\n",
       "    .dataframe tbody tr th {\n",
       "        vertical-align: top;\n",
       "    }\n",
       "\n",
       "    .dataframe thead th {\n",
       "        text-align: right;\n",
       "    }\n",
       "</style>\n",
       "<table border=\"1\" class=\"dataframe\">\n",
       "  <thead>\n",
       "    <tr style=\"text-align: right;\">\n",
       "      <th></th>\n",
       "      <th>loan_amnt</th>\n",
       "      <th>term</th>\n",
       "      <th>int_rate</th>\n",
       "      <th>emp_length</th>\n",
       "      <th>home_ownership</th>\n",
       "      <th>annual_inc</th>\n",
       "      <th>purpose</th>\n",
       "      <th>percent_bc_gt_75</th>\n",
       "      <th>bc_util</th>\n",
       "      <th>dti</th>\n",
       "      <th>inq_last_6mths</th>\n",
       "      <th>mths_since_recent_inq</th>\n",
       "      <th>revol_util</th>\n",
       "      <th>total_bc_limit</th>\n",
       "      <th>tot_cur_bal</th>\n",
       "      <th>bad_flag</th>\n",
       "    </tr>\n",
       "  </thead>\n",
       "  <tbody>\n",
       "    <tr>\n",
       "      <th>0</th>\n",
       "      <td>7550</td>\n",
       "      <td>36 months</td>\n",
       "      <td>0.1624</td>\n",
       "      <td>3.0</td>\n",
       "      <td>RENT</td>\n",
       "      <td>28000.0</td>\n",
       "      <td>debt_consolidation</td>\n",
       "      <td>100.0</td>\n",
       "      <td>96.0</td>\n",
       "      <td>8.40</td>\n",
       "      <td>0.0</td>\n",
       "      <td>17.0</td>\n",
       "      <td>0.720</td>\n",
       "      <td>4000.0</td>\n",
       "      <td>5759.0</td>\n",
       "      <td>0.0</td>\n",
       "    </tr>\n",
       "    <tr>\n",
       "      <th>1</th>\n",
       "      <td>27050</td>\n",
       "      <td>36 months</td>\n",
       "      <td>0.1099</td>\n",
       "      <td>10.0</td>\n",
       "      <td>OWN</td>\n",
       "      <td>55000.0</td>\n",
       "      <td>debt_consolidation</td>\n",
       "      <td>25.0</td>\n",
       "      <td>53.9</td>\n",
       "      <td>22.87</td>\n",
       "      <td>0.0</td>\n",
       "      <td>8.0</td>\n",
       "      <td>0.612</td>\n",
       "      <td>35700.0</td>\n",
       "      <td>114834.0</td>\n",
       "      <td>0.0</td>\n",
       "    </tr>\n",
       "  </tbody>\n",
       "</table>\n",
       "</div>"
      ],
      "text/plain": [
       "   loan_amnt        term  int_rate  emp_length home_ownership  annual_inc  \\\n",
       "0       7550   36 months    0.1624         3.0           RENT     28000.0   \n",
       "1      27050   36 months    0.1099        10.0            OWN     55000.0   \n",
       "\n",
       "              purpose  percent_bc_gt_75  bc_util    dti  inq_last_6mths  \\\n",
       "0  debt_consolidation             100.0     96.0   8.40             0.0   \n",
       "1  debt_consolidation              25.0     53.9  22.87             0.0   \n",
       "\n",
       "   mths_since_recent_inq  revol_util  total_bc_limit  tot_cur_bal  bad_flag  \n",
       "0                   17.0       0.720          4000.0       5759.0       0.0  \n",
       "1                    8.0       0.612         35700.0     114834.0       0.0  "
      ]
     },
     "execution_count": 7,
     "metadata": {},
     "output_type": "execute_result"
    }
   ],
   "source": [
    "train_data.head(2)"
   ]
  },
  {
   "cell_type": "code",
   "execution_count": 8,
   "id": "7d19bb84-5262-4d8a-9ad3-782084a837da",
   "metadata": {},
   "outputs": [
    {
     "data": {
      "text/html": [
       "<div>\n",
       "<style scoped>\n",
       "    .dataframe tbody tr th:only-of-type {\n",
       "        vertical-align: middle;\n",
       "    }\n",
       "\n",
       "    .dataframe tbody tr th {\n",
       "        vertical-align: top;\n",
       "    }\n",
       "\n",
       "    .dataframe thead th {\n",
       "        text-align: right;\n",
       "    }\n",
       "</style>\n",
       "<table border=\"1\" class=\"dataframe\">\n",
       "  <thead>\n",
       "    <tr style=\"text-align: right;\">\n",
       "      <th></th>\n",
       "      <th>loan_amnt</th>\n",
       "      <th>term</th>\n",
       "      <th>int_rate</th>\n",
       "      <th>emp_length</th>\n",
       "      <th>home_ownership</th>\n",
       "      <th>annual_inc</th>\n",
       "      <th>purpose</th>\n",
       "      <th>percent_bc_gt_75</th>\n",
       "      <th>bc_util</th>\n",
       "      <th>dti</th>\n",
       "      <th>inq_last_6mths</th>\n",
       "      <th>mths_since_recent_inq</th>\n",
       "      <th>revol_util</th>\n",
       "      <th>total_bc_limit</th>\n",
       "      <th>tot_cur_bal</th>\n",
       "      <th>bad_flag</th>\n",
       "    </tr>\n",
       "  </thead>\n",
       "  <tbody>\n",
       "    <tr>\n",
       "      <th>0</th>\n",
       "      <td>7550</td>\n",
       "      <td>36 months</td>\n",
       "      <td>0.1624</td>\n",
       "      <td>3.0</td>\n",
       "      <td>RENT</td>\n",
       "      <td>28000.0</td>\n",
       "      <td>debt_consolidation</td>\n",
       "      <td>100.0</td>\n",
       "      <td>96.0</td>\n",
       "      <td>8.40</td>\n",
       "      <td>0.0</td>\n",
       "      <td>17.0</td>\n",
       "      <td>0.720</td>\n",
       "      <td>4000.0</td>\n",
       "      <td>5759.0</td>\n",
       "      <td>0.0</td>\n",
       "    </tr>\n",
       "    <tr>\n",
       "      <th>1</th>\n",
       "      <td>27050</td>\n",
       "      <td>36 months</td>\n",
       "      <td>0.1099</td>\n",
       "      <td>10.0</td>\n",
       "      <td>OWN</td>\n",
       "      <td>55000.0</td>\n",
       "      <td>debt_consolidation</td>\n",
       "      <td>25.0</td>\n",
       "      <td>53.9</td>\n",
       "      <td>22.87</td>\n",
       "      <td>0.0</td>\n",
       "      <td>8.0</td>\n",
       "      <td>0.612</td>\n",
       "      <td>35700.0</td>\n",
       "      <td>114834.0</td>\n",
       "      <td>0.0</td>\n",
       "    </tr>\n",
       "  </tbody>\n",
       "</table>\n",
       "</div>"
      ],
      "text/plain": [
       "   loan_amnt        term  int_rate  emp_length home_ownership  annual_inc  \\\n",
       "0       7550   36 months    0.1624         3.0           RENT     28000.0   \n",
       "1      27050   36 months    0.1099        10.0            OWN     55000.0   \n",
       "\n",
       "              purpose  percent_bc_gt_75  bc_util    dti  inq_last_6mths  \\\n",
       "0  debt_consolidation             100.0     96.0   8.40             0.0   \n",
       "1  debt_consolidation              25.0     53.9  22.87             0.0   \n",
       "\n",
       "   mths_since_recent_inq  revol_util  total_bc_limit  tot_cur_bal  bad_flag  \n",
       "0                   17.0       0.720          4000.0       5759.0       0.0  \n",
       "1                    8.0       0.612         35700.0     114834.0       0.0  "
      ]
     },
     "execution_count": 8,
     "metadata": {},
     "output_type": "execute_result"
    }
   ],
   "source": [
    "test_data.head(2)"
   ]
  },
  {
   "cell_type": "code",
   "execution_count": 9,
   "id": "368bd245-7350-4fdc-b974-a5e63db75f99",
   "metadata": {},
   "outputs": [
    {
     "name": "stdout",
     "output_type": "stream",
     "text": [
      "Class Distribution:\n",
      "bad_flag\n",
      "0.0    176329\n",
      "1.0     13128\n",
      "Name: count, dtype: int64\n",
      "Imbalance Ratio: 0.07\n"
     ]
    }
   ],
   "source": [
    "# Check the distribution of the target variable\n",
    "class_counts = train_data['bad_flag'].value_counts()\n",
    "print(\"Class Distribution:\")\n",
    "print(class_counts)\n",
    "\n",
    "# Calculate imbalance ratio\n",
    "imbalance_ratio = class_counts.min() / class_counts.max()\n",
    "print(f\"Imbalance Ratio: {imbalance_ratio:.2f}\")"
   ]
  },
  {
   "cell_type": "markdown",
   "id": "5bf1e248-535b-46f5-ac76-439454f954ae",
   "metadata": {},
   "source": [
    "###An imbalance ratio of 0.07 indicates a highly imbalanced dataset, with the majority class being much more frequent than the minority class. This will likely cause the model to be biased towards predicting the majority class, resulting in poor performance for the minority class."
   ]
  },
  {
   "cell_type": "markdown",
   "id": "a92be100-c469-4319-9f3f-85acf2eae47d",
   "metadata": {},
   "source": [
    "#We can try oversampling, undersampling, or weighted loss. I am first going to try undersampling to not add synthetic data"
   ]
  },
  {
   "cell_type": "code",
   "execution_count": 10,
   "id": "d808545a-2980-4e5c-8519-07b27a999b73",
   "metadata": {},
   "outputs": [
    {
     "name": "stdout",
     "output_type": "stream",
     "text": [
      "Balanced Class Distribution:\n",
      "bad_flag\n",
      "1.0    13128\n",
      "0.0    13128\n",
      "Name: count, dtype: int64\n"
     ]
    }
   ],
   "source": [
    "from sklearn.utils import resample\n",
    "\n",
    "# Separate majority and minority classes\n",
    "df_majority = train_data[train_data['bad_flag'] == 0]\n",
    "df_minority = train_data[train_data['bad_flag'] == 1]\n",
    "\n",
    "# Undersample the majority class\n",
    "df_majority_undersampled = resample(\n",
    "    df_majority,\n",
    "    replace=False,              # Sample without replacement\n",
    "    n_samples=len(df_minority), # Match minority class size\n",
    "    random_state=42             # For reproducibility\n",
    ")\n",
    "\n",
    "# Combine undersampled majority class with minority class\n",
    "df_train_balanced = pd.concat([df_majority_undersampled, df_minority])\n",
    "\n",
    "# Shuffle the dataset\n",
    "df_train_balanced = df_train_balanced.sample(frac=1, random_state=42)\n",
    "\n",
    "# Verify the new distribution\n",
    "print(\"Balanced Class Distribution:\")\n",
    "print(df_train_balanced['bad_flag'].value_counts())"
   ]
  },
  {
   "cell_type": "code",
   "execution_count": 11,
   "id": "4b4a3c7d-35c4-4884-b7c5-6a9731d80a53",
   "metadata": {},
   "outputs": [],
   "source": [
    "\n",
    "#Define categorical and numerical columns\n",
    "categorical_columns = ['purpose', 'term', 'home_ownership']  # Replace with actual categorical column names\n",
    "target_column = 'bad_flag'\n",
    "numerical_columns = [col for col in train_data.columns if col not in categorical_columns + [target_column]]\n",
    "\n"
   ]
  },
  {
   "cell_type": "code",
   "execution_count": 12,
   "id": "c406f5b5-be38-4fe7-a4a7-47a42e7a851d",
   "metadata": {},
   "outputs": [],
   "source": [
    "#Preprocessing (One-Hot Encoding + Scaling)\n",
    "preprocessor = ColumnTransformer(\n",
    "    transformers=[\n",
    "        ('num', StandardScaler(), numerical_columns),  # Standardize numerical columns\n",
    "        ('cat', OneHotEncoder(drop='first'), categorical_columns)  # One-Hot Encode categorical columns\n",
    "    ]\n",
    ")"
   ]
  },
  {
   "cell_type": "code",
   "execution_count": 13,
   "id": "7d185d7a-caef-46b0-85d3-bbb14d48b22f",
   "metadata": {},
   "outputs": [],
   "source": [
    "# Split the training data into train and validation sets (80-20 split)\n",
    "X = df_train_balanced.drop(columns=[target_column])\n",
    "y = df_train_balanced[target_column]\n",
    "X_train, X_val, y_train, y_val = train_test_split(X, y, test_size=0.2, random_state=42, stratify=y)\n",
    "\n",
    "# Preprocess training and validation data\n",
    "X_train_transformed = preprocessor.fit_transform(X_train)\n",
    "X_val_transformed = preprocessor.transform(X_val)"
   ]
  },
  {
   "cell_type": "code",
   "execution_count": 14,
   "id": "9d006e76-a52a-4f29-b008-c8da5cecd084",
   "metadata": {},
   "outputs": [],
   "source": [
    "# Convert to PyTorch tensors\n",
    "X_train_tensor = torch.tensor(X_train_transformed, dtype=torch.float32)\n",
    "y_train_tensor = torch.tensor(y_train.values, dtype=torch.float32)\n",
    "\n",
    "X_val_tensor = torch.tensor(X_val_transformed, dtype=torch.float32)\n",
    "y_val_tensor = torch.tensor(y_val.values, dtype=torch.float32)"
   ]
  },
  {
   "cell_type": "code",
   "execution_count": null,
   "id": "72c4f3bc-e215-414b-8019-dd24a201e19c",
   "metadata": {},
   "outputs": [],
   "source": []
  }
 ],
 "metadata": {
  "kernelspec": {
   "display_name": "Python 3 (ipykernel)",
   "language": "python",
   "name": "python3"
  },
  "language_info": {
   "codemirror_mode": {
    "name": "ipython",
    "version": 3
   },
   "file_extension": ".py",
   "mimetype": "text/x-python",
   "name": "python",
   "nbconvert_exporter": "python",
   "pygments_lexer": "ipython3",
   "version": "3.9.21"
  }
 },
 "nbformat": 4,
 "nbformat_minor": 5
}
